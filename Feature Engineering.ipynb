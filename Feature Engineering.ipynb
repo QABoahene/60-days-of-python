{
 "metadata": {
  "language_info": {
   "codemirror_mode": {
    "name": "ipython",
    "version": 3
   },
   "file_extension": ".py",
   "mimetype": "text/x-python",
   "name": "python",
   "nbconvert_exporter": "python",
   "pygments_lexer": "ipython3",
   "version": "3.7.3-final"
  },
  "orig_nbformat": 2,
  "kernelspec": {
   "name": "python3",
   "display_name": "Python 3",
   "language": "python"
  }
 },
 "nbformat": 4,
 "nbformat_minor": 2,
 "cells": [
  {
   "source": [
    "# Understanding the power of feature engineering\n",
    "---\n",
    "This is a practice of a tutorial about feature engineering and the code. I followed this tutorial from this Towards Data Science article. (https://towardsdatascience.com/the-power-of-feature-engineering-b6f3bb7de39c). I will be commenting the code about my understanding of things. "
   ],
   "cell_type": "markdown",
   "metadata": {}
  },
  {
   "cell_type": "code",
   "execution_count": null,
   "metadata": {},
   "outputs": [],
   "source": [
    "import numpy as np \n",
    "import pandas as pd\n",
    "import matplotlib.pyplot as plt\n",
    "%matplotlib inline\n",
    "\n",
    "n_points = 2000 #Number of employees / data points\n",
    "\n",
    "age = np.round(np.linspace(18, 60, n_points), 2) #age of employees. Age is also in two decimal places\n",
    "np.random.shuffle(age) #Shuffles ages so they are not correlated\n",
    "\n",
    "performance = np.linspace(-10, 10, n_points) #performance of employees \n",
    "np.random.shuffle(performance)\n",
    "\n",
    "noise = np.random.randn(n_points)\n",
    "\n",
    "g = (100 * age) + 200*(performance) + 500 * age / performance - 10000 + 500 * noise\n",
    "y = [1 if y >= 0 else 0 for y in g]\n",
    "\n",
    "data = pd.DataFrame(data = {'age': age, 'performance': performance, 'y': y})\n",
    "data.head()"
   ]
  },
  {
   "cell_type": "code",
   "execution_count": null,
   "metadata": {},
   "outputs": [],
   "source": [
    "plt.subplots(nrows = 1, ncols = 1, figsize = (15, 10))\n",
    "\n",
    "plt.scatter('age', 'performance', c = '#ff2121', data = data[data.y == 1])\n",
    "plt.scatter('age', 'performance', c = '#2176ff', data = data[data.y == 0])\n",
    "plt.ylabel('Performance Score', size = 20)\n",
    "plt.xlabel('Age', size = 20)\n",
    "plt.title('Scatter Plot of Promotion Data', size = 20)\n",
    "plt.xticks(size = 12)\n",
    "plt.yticks(size = 12)\n",
    "plt.legend(['Promoted', 'Not Promoted'], loc = 2, prop = {'size': 20})"
   ]
  },
  {
   "cell_type": "code",
   "execution_count": null,
   "metadata": {},
   "outputs": [],
   "source": [
    " from sklearn.model_selection import train_test_split\n",
    " import sklearn.metrics as metric\n",
    " import statsmodels.api as sm\n",
    "\n",
    "x = data[['age', 'performance']]\n",
    "s = sm.add_constant(x)\n",
    "y = data['y']\n",
    "x_train, x_test, y_train, y_test = train_test_split(x, y, test_size = 0.3, random_state = 101)\n",
    "\n",
    "model = sm.Logit(y_train, x_train).fit() #Fit logistic regression\n",
    "\n",
    "predictions = np.around(model.predict(x_test))\n",
    "accuracy = metric.accuracy_score(y_test, predictions)"
   ]
  },
  {
   "cell_type": "code",
   "execution_count": null,
   "metadata": {},
   "outputs": [],
   "source": [
    "n_points = 1000000\n",
    "\n",
    "age_db = np.linspace(18, 60, n_points)\n",
    "np.random.shuffle(age_db)\n",
    "\n",
    "performance_db = np.linspace(-10, 10, n_points)\n",
    "np.random.shuffle(performance_db)\n",
    "\n",
    "data_db = pd.DataFrame({'age': age_db, 'performance': performance_db})\n",
    "data_db = sm.add_constant(data_db)\n",
    "\n",
    "predictions = model.predict(data_db)\n",
    "y_db = [round(p) for p in predictions]\n",
    "data_db['y'] = y_db\n",
    "\n",
    "fig, ax = plt.subplots(nrows = 1, ncols = 1, figsize = (15, 10))\n",
    "\n",
    "plt.scatter('age', 'performance', c = '#ffbdbd', s = 1, data = data_db[data_db.y == 1])\n",
    "plt.scatter('age', 'performance', c = '#b0c4ff', s = 1, data = data_db[data_db.y == 0])\n",
    "\n",
    "plt.scatter('age', 'performance', c = '#ff2121', data = data_db[data_db.y == 1])\n",
    "plt.scatter('age', 'performance', c = '#2176ff', data = data_db[data_db.y == 0])\n",
    "plt.title('Decision Boundary of Logistic Regression Model')\n",
    "plt.xlabel('Age', size = 20)\n",
    "plt.ylabel('Performance Score', size = 20)\n",
    "plt.yticks(size = 12)\n",
    "plt.xticks(size = 12)\n",
    "plt.legend()"
   ]
  },
  {
   "cell_type": "code",
   "execution_count": null,
   "metadata": {},
   "outputs": [],
   "source": []
  }
 ]
}