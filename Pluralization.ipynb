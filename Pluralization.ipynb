{
 "metadata": {
  "language_info": {
   "codemirror_mode": {
    "name": "ipython",
    "version": 3
   },
   "file_extension": ".py",
   "mimetype": "text/x-python",
   "name": "python",
   "nbconvert_exporter": "python",
   "pygments_lexer": "ipython3",
   "version": "3.7.3-final"
  },
  "orig_nbformat": 2,
  "kernelspec": {
   "name": "python3",
   "display_name": "Python 3"
  }
 },
 "nbformat": 4,
 "nbformat_minor": 2,
 "cells": [
  {
   "source": [
    "# Defining Plurilization Rules For Words\n",
    "---\n",
    "This was something I used to practice my if, elif and else statements. As well as my for loops.\n",
    "I am aware of the python libraries and packages that can help with this tasks but it was solely for the practising of the task above."
   ],
   "cell_type": "markdown",
   "metadata": {}
  },
  {
   "cell_type": "code",
   "execution_count": 3,
   "metadata": {},
   "outputs": [
    {
     "output_type": "stream",
     "name": "stdout",
     "text": [
      "trusses\ncities\nstresses\npities\nlunches\nfoci\nanalyses\nsexes\nblitzes\npotatoes\nsashes\nmangoes\ncacti\nfaxes\nchurches\npushes\ntaxes\ntattooes\nbabies\npasses\n"
     ]
    }
   ],
   "source": [
    "words = ['truss','city', 'stress', 'pity', 'lunch', 'focus', 'analysis', 'sex', 'blitz', 'potato', 'sash', 'mango', 'cactus', 'fax', 'church', 'push', 'tax', 'tattoo', 'baby', 'pass']  \n",
    "for word in words:  \n",
    "# If the singular noun ends in -ss, -sh, -ch, -x, or -z, add ‑es to the end to make it plural.  \n",
    "    if word[-2:] == 'ss':  \n",
    "        print(word + 'es')  \n",
    "    elif word[-2:] == 'sh':  \n",
    "        print(word + 'es')  \n",
    "    elif word[-2:] == 'ch':  \n",
    "        print(word + 'es')  \n",
    "    elif word[-1:] == 'x':  \n",
    "        print(word + 'es')  \n",
    "    elif word[-1:] == 'z':  \n",
    "        print(word + 'es')  \n",
    "  \n",
    "# If a singular noun ends in ‑y and the letter before the -y is a consonant, change the ending to ‑ies to make the noun plural.  \n",
    "    elif word[-1:] == 'y':  \n",
    "        print(word[:-1] + 'ies')  \n",
    "  \n",
    "# If the singular noun ends in ‑us, the plural ending is frequently ‑i.  \n",
    "    elif word[-2:] == 'us':  \n",
    "        print (word[:-2] + 'i')  \n",
    "  \n",
    "# If the singular noun ends in ‑is, the plural ending is ‑es.  \n",
    "    elif word[-2:] == 'is':  \n",
    "        print(word[:-2] + 'es')  \n",
    "  \n",
    "# If the singular noun ends in ‑o, add ‑es to make it plural.  \n",
    "    elif word[-1:] == 'o':  \n",
    "            print(word + 'es')  \n",
    "    else:  \n",
    "        print(word + \" - Sorry, this code logic isn't there yet, try another word using the defined rules\")  "
   ]
  }
 ]
}