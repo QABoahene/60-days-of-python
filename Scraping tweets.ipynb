{
 "metadata": {
  "language_info": {
   "codemirror_mode": {
    "name": "ipython",
    "version": 3
   },
   "file_extension": ".py",
   "mimetype": "text/x-python",
   "name": "python",
   "nbconvert_exporter": "python",
   "pygments_lexer": "ipython3",
   "version": "3.7.3-final"
  },
  "orig_nbformat": 2,
  "kernelspec": {
   "name": "Python 3.7.3 64-bit ('anaconda3': virtualenv)",
   "display_name": "Python 3.7.3 64-bit ('anaconda3': virtualenv)",
   "metadata": {
    "interpreter": {
     "hash": "a546926453268da43487979b71a1c6ce1a74d4b447081a194f9081b9f23a024f"
    }
   }
  }
 },
 "nbformat": 4,
 "nbformat_minor": 2,
 "cells": [
  {
   "source": [
    "# Analysis of @TheGeeksCore tweets"
   ],
   "cell_type": "markdown",
   "metadata": {}
  },
  {
   "cell_type": "code",
   "execution_count": null,
   "metadata": {},
   "outputs": [],
   "source": [
    "import tweepy\n",
    "import json\n",
    "import re\n",
    "import pandas as pd\n",
    "import matplotlib.pyplot as plt\n",
    "import time"
   ]
  },
  {
   "cell_type": "code",
   "execution_count": null,
   "metadata": {},
   "outputs": [],
   "source": [
    "#Authorizing Tweepy to utilize API\n",
    "con_key = ''\n",
    "con_sec = ''\n",
    "acc_token = ''\n",
    "acc_token_sec = ''\n",
    "\n",
    "authorize = tweepy.OAuthHandler(con_key, con_sec)\n",
    "authorize.set_access_token(acc_token, acc_token_sec)\n",
    "api = tweepy.API(authorize, wait_on_rate_limit = True)"
   ]
  },
  {
   "cell_type": "code",
   "execution_count": null,
   "metadata": {},
   "outputs": [],
   "source": [
    "#Searching specific account's tweet (@Thegeekscore)\n",
    "handle = 'thegeekscore'\n",
    "num_tweets = 3000\n",
    "\n",
    "try:\n",
    "    tweets = tweepy.Cursor(api.user_timeline, id = handle, tweet_mode = 'extended').items(num_tweets)\n",
    "    tweets_list = [[tweet.created_at, tweet.id_str, tweet.full_text, tweet.retweet_count, tweet.favorite_count] for tweet in tweets]\n",
    "    data = pd.DataFrame(tweets_list, columns = ['Date', 'ID', 'Tweet', 'Retweets', 'Likes'])\n",
    "\n",
    "except BaseException as e:\n",
    "    print('failed on status,', str(e))\n",
    "    time.sleep(3)"
   ]
  },
  {
   "cell_type": "code",
   "execution_count": null,
   "metadata": {},
   "outputs": [],
   "source": [
    "data.head(20)"
   ]
  }
 ]
}